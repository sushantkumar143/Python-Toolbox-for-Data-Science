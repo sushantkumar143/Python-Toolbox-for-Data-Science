{
  "nbformat": 4,
  "nbformat_minor": 0,
  "metadata": {
    "colab": {
      "provenance": [],
      "authorship_tag": "ABX9TyO6qDUWiJnGcr+LJD6Fco+K",
      "include_colab_link": true
    },
    "kernelspec": {
      "name": "python3",
      "display_name": "Python 3"
    },
    "language_info": {
      "name": "python"
    }
  },
  "cells": [
    {
      "cell_type": "markdown",
      "metadata": {
        "id": "view-in-github",
        "colab_type": "text"
      },
      "source": [
        "<a href=\"https://colab.research.google.com/github/sushantkumar143/Python-Toolbox-for-Data-Science/blob/main/Python_Basic.ipynb\" target=\"_parent\"><img src=\"https://colab.research.google.com/assets/colab-badge.svg\" alt=\"Open In Colab\"/></a>"
      ]
    },
    {
      "cell_type": "code",
      "execution_count": 2,
      "metadata": {
        "colab": {
          "base_uri": "https://localhost:8080/"
        },
        "id": "gEfogkdVh1Ml",
        "outputId": "26ed16c6-0726-4c52-8f88-667a40d00263"
      },
      "outputs": [
        {
          "output_type": "stream",
          "name": "stdout",
          "text": [
            "Positive\n"
          ]
        }
      ],
      "source": [
        "n = 5\n",
        "res = \"Positive\" if n>0 else print(\"Negative\") if n<0 else \"Zero\"\n",
        "print(res)"
      ]
    },
    {
      "cell_type": "code",
      "source": [
        "n = 5\n",
        "print(\"Positive\" if n>0 else print(\"Negative\") if n<0 else \"Zero\")\n"
      ],
      "metadata": {
        "colab": {
          "base_uri": "https://localhost:8080/"
        },
        "id": "EK5Byb--ioYb",
        "outputId": "e7c4961a-5c4d-4e1d-e412-d6a3f2b880f5"
      },
      "execution_count": 4,
      "outputs": [
        {
          "output_type": "stream",
          "name": "stdout",
          "text": [
            "Positive\n"
          ]
        }
      ]
    },
    {
      "cell_type": "code",
      "source": [
        "# Single Line Comment\n",
        "'''\n",
        "Multi Line Comment\n",
        "'''"
      ],
      "metadata": {
        "colab": {
          "base_uri": "https://localhost:8080/",
          "height": 36
        },
        "id": "8QdqzhemiyFx",
        "outputId": "2af0e556-0cd0-4067-e47f-894dc7688b08"
      },
      "execution_count": 5,
      "outputs": [
        {
          "output_type": "execute_result",
          "data": {
            "text/plain": [
              "'\\nMulti Line Comment\\n'"
            ],
            "application/vnd.google.colaboratory.intrinsic+json": {
              "type": "string"
            }
          },
          "metadata": {},
          "execution_count": 5
        }
      ]
    },
    {
      "cell_type": "code",
      "source": [
        "# DATA TYPES\n",
        "# NUMERIC DATA TYPE - int, float, complex\n",
        "# SEQUENCE DATA TYPE - list, tuple, dictionary\n",
        "x = 5\n",
        "y = 3.14\n",
        "z = \"India\"\n",
        "k = True\n",
        "\n",
        "print(k, type(k))\n",
        "print(x ,type(x))\n",
        "print(y, type(y))\n",
        "print(z, type(z))"
      ],
      "metadata": {
        "colab": {
          "base_uri": "https://localhost:8080/"
        },
        "id": "I_adj2VVi5r7",
        "outputId": "db5d6a07-1d15-465c-adc3-d97b47ff8bba"
      },
      "execution_count": 8,
      "outputs": [
        {
          "output_type": "stream",
          "name": "stdout",
          "text": [
            "True <class 'bool'>\n",
            "5 <class 'int'>\n",
            "3.14 <class 'float'>\n",
            "India <class 'str'>\n"
          ]
        }
      ]
    },
    {
      "cell_type": "code",
      "source": [
        "a = \"3.6\"\n",
        "s = float(a)\n",
        "# s = int(a)        # ERROR\n",
        "\n",
        "num1 = 5\n",
        "s = str(num1)\n",
        "s"
      ],
      "metadata": {
        "colab": {
          "base_uri": "https://localhost:8080/",
          "height": 36
        },
        "id": "d3Ot62z_kjfm",
        "outputId": "702862c2-a527-483c-8cec-c96a9076280e"
      },
      "execution_count": 15,
      "outputs": [
        {
          "output_type": "execute_result",
          "data": {
            "text/plain": [
              "'5'"
            ],
            "application/vnd.google.colaboratory.intrinsic+json": {
              "type": "string"
            }
          },
          "metadata": {},
          "execution_count": 15
        }
      ]
    },
    {
      "cell_type": "code",
      "source": [
        "a = \"Hello K23SK\"\n",
        "k.upper()\n",
        "a[2]\n",
        "a[2:5]"
      ],
      "metadata": {
        "colab": {
          "base_uri": "https://localhost:8080/",
          "height": 36
        },
        "id": "8Yodwj0UmBbE",
        "outputId": "7656c64f-7960-430a-c9ab-17918880f7d7"
      },
      "execution_count": 21,
      "outputs": [
        {
          "output_type": "execute_result",
          "data": {
            "text/plain": [
              "'llo'"
            ],
            "application/vnd.google.colaboratory.intrinsic+json": {
              "type": "string"
            }
          },
          "metadata": {},
          "execution_count": 21
        }
      ]
    },
    {
      "cell_type": "code",
      "source": [
        "l = [1,2,3,4,5]\n",
        "t = (1,2,3,4,5)\n",
        "s = {1,2,3,4,5}\n",
        "s.add(6)\n",
        "s\n",
        "s = {1, (2, 3)}  # Valid\n",
        "# s = {1, [2, 3]}  # Invalid\n"
      ],
      "metadata": {
        "colab": {
          "base_uri": "https://localhost:8080/"
        },
        "id": "1teUhVvbor8E",
        "outputId": "b7ac4efb-fe2d-4f27-b546-452730824911"
      },
      "execution_count": 23,
      "outputs": [
        {
          "output_type": "execute_result",
          "data": {
            "text/plain": [
              "{1, 2, 3, 4, 5, 6}"
            ]
          },
          "metadata": {},
          "execution_count": 23
        }
      ]
    },
    {
      "cell_type": "code",
      "source": [
        "def greet(name):\n",
        "  print(\"Hello\",name)\n",
        "greet(\"Sushant\")"
      ],
      "metadata": {
        "colab": {
          "base_uri": "https://localhost:8080/"
        },
        "id": "vkVVPz6oqIP4",
        "outputId": "66a0af27-b4b8-4722-b148-6874aca2f791"
      },
      "execution_count": 27,
      "outputs": [
        {
          "output_type": "stream",
          "name": "stdout",
          "text": [
            "Hello Sushant\n"
          ]
        }
      ]
    },
    {
      "cell_type": "code",
      "source": [
        "cars = [\"Ford\", \"Volvo\", \"BMW\"]\n",
        "x = np.array(cars)\n",
        "print(x)"
      ],
      "metadata": {
        "colab": {
          "base_uri": "https://localhost:8080/"
        },
        "id": "h039kp2atj8r",
        "outputId": "135cce9a-969d-4d8e-a088-31f59e633d6a"
      },
      "execution_count": 29,
      "outputs": [
        {
          "output_type": "stream",
          "name": "stdout",
          "text": [
            "['Ford' 'Volvo' 'BMW']\n"
          ]
        }
      ]
    },
    {
      "cell_type": "code",
      "source": [
        "# 2025\n",
        "sum1 = 0\n",
        "for i in range(1,46,2):\n",
        "  sum1 += i\n",
        "# sum1\n",
        "sum2 = 0\n",
        "for i in range(1,10):\n",
        "  sum2 += i*i*i\n",
        "sum2"
      ],
      "metadata": {
        "colab": {
          "base_uri": "https://localhost:8080/"
        },
        "id": "KvsK5z2-1OUB",
        "outputId": "bd9170aa-f50d-4667-d17e-c688bb4ae200"
      },
      "execution_count": 32,
      "outputs": [
        {
          "output_type": "execute_result",
          "data": {
            "text/plain": [
              "2025"
            ]
          },
          "metadata": {},
          "execution_count": 32
        }
      ]
    }
  ]
}