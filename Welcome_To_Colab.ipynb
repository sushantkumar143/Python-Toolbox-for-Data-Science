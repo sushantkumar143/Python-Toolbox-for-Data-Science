{
  "cells": [
    {
      "cell_type": "markdown",
      "metadata": {
        "id": "view-in-github",
        "colab_type": "text"
      },
      "source": [
        "<a href=\"https://colab.research.google.com/github/sushantkumar143/Python-Toolbox-for-Data-Science/blob/main/Welcome_To_Colab.ipynb\" target=\"_parent\"><img src=\"https://colab.research.google.com/assets/colab-badge.svg\" alt=\"Open In Colab\"/></a>"
      ]
    },
    {
      "cell_type": "code",
      "source": [
        "import numpy as np\n",
        "l = [[1,2,3], [4,5,6], [7,8,9]]\n",
        "numpy_array = np.array(l)\n",
        "print(numpy_array)"
      ],
      "metadata": {
        "id": "RkRFfbCyfSiq",
        "outputId": "0ba3d4db-d42b-4585-a334-9b869fdcf994",
        "colab": {
          "base_uri": "https://localhost:8080/"
        }
      },
      "execution_count": 13,
      "outputs": [
        {
          "output_type": "stream",
          "name": "stdout",
          "text": [
            "[[1 2 3]\n",
            " [4 5 6]\n",
            " [7 8 9]]\n"
          ]
        }
      ]
    },
    {
      "cell_type": "code",
      "source": [
        "zeros_array = np.zeros((3,4))\n",
        "zeros_array"
      ],
      "metadata": {
        "id": "sfzd3Nw9hceO",
        "outputId": "fb333c5e-362b-40c2-cae4-ff5ea100994f",
        "colab": {
          "base_uri": "https://localhost:8080/"
        }
      },
      "execution_count": 18,
      "outputs": [
        {
          "output_type": "execute_result",
          "data": {
            "text/plain": [
              "array([[0., 0., 0., 0.],\n",
              "       [0., 0., 0., 0.],\n",
              "       [0., 0., 0., 0.]])"
            ]
          },
          "metadata": {},
          "execution_count": 18
        }
      ]
    },
    {
      "cell_type": "code",
      "source": [
        "ones_array = np.ones((3,4))\n",
        "print(ones_array)"
      ],
      "metadata": {
        "id": "4GtOdD4mhRP5",
        "outputId": "952b9a36-c789-4383-b316-7a269a946c7b",
        "colab": {
          "base_uri": "https://localhost:8080/"
        }
      },
      "execution_count": 17,
      "outputs": [
        {
          "output_type": "stream",
          "name": "stdout",
          "text": [
            "[[1. 1. 1. 1.]\n",
            " [1. 1. 1. 1.]\n",
            " [1. 1. 1. 1.]]\n"
          ]
        }
      ]
    },
    {
      "cell_type": "code",
      "source": [
        "random_array = np.random.rand(3,4)\n",
        "print(random_array)"
      ],
      "metadata": {
        "id": "xrcubgrZiG9q",
        "outputId": "5fe2ab41-c67c-48f4-9692-1af79715a4ea",
        "colab": {
          "base_uri": "https://localhost:8080/"
        }
      },
      "execution_count": 16,
      "outputs": [
        {
          "output_type": "stream",
          "name": "stdout",
          "text": [
            "[[0.52043249 0.09386812 0.98952565 0.90806402]\n",
            " [0.18725276 0.85927577 0.14625811 0.50246649]\n",
            " [0.88552825 0.91448045 0.01102463 0.34481496]]\n"
          ]
        }
      ]
    },
    {
      "cell_type": "code",
      "source": [
        "randn_array = np.random.randn(3,4)\n",
        "print(randn_array)"
      ],
      "metadata": {
        "id": "R2FRmXSNjawT",
        "outputId": "5a800471-56b8-4e58-a60e-3b50913da12f",
        "colab": {
          "base_uri": "https://localhost:8080/"
        }
      },
      "execution_count": 19,
      "outputs": [
        {
          "output_type": "stream",
          "name": "stdout",
          "text": [
            "[[ 0.04248613 -0.66881255 -0.3116735  -0.16582036]\n",
            " [-1.38881281  0.63069073  0.47339866 -0.85001077]\n",
            " [-0.4873969  -0.81484878  1.4672491   1.23925091]]\n"
          ]
        }
      ]
    },
    {
      "cell_type": "code",
      "source": [
        "randint_array = np.random.randint(1,100,10)\n",
        "print(randint_array)"
      ],
      "metadata": {
        "id": "ue2-bHZHjgX7",
        "outputId": "722c4d86-40c6-4019-95d9-fb408aa93a5b",
        "colab": {
          "base_uri": "https://localhost:8080/"
        }
      },
      "execution_count": 20,
      "outputs": [
        {
          "output_type": "stream",
          "name": "stdout",
          "text": [
            "[13 77 45 66 61 32 15  4 79  8]\n"
          ]
        }
      ]
    },
    {
      "cell_type": "code",
      "source": [
        "arr = np.array([[1,2,3], [4,5,6], [7,8,9]])\n",
        "#arr[0]\n",
        "arr[-1][0]\n",
        "arr[1,1]"
      ],
      "metadata": {
        "id": "DHLOscAskxX4",
        "outputId": "e0741f9e-63d3-4e06-eec6-fc645a78c272",
        "colab": {
          "base_uri": "https://localhost:8080/"
        }
      },
      "execution_count": 37,
      "outputs": [
        {
          "output_type": "execute_result",
          "data": {
            "text/plain": [
              "5"
            ]
          },
          "metadata": {},
          "execution_count": 37
        }
      ]
    },
    {
      "cell_type": "code",
      "source": [
        "print(\"Shape of Array\", numpy_array.shape)"
      ],
      "metadata": {
        "id": "fhWn6ndalLWu",
        "outputId": "eebacc1a-ff93-4bae-ae29-e6804ce807a3",
        "colab": {
          "base_uri": "https://localhost:8080/"
        }
      },
      "execution_count": 28,
      "outputs": [
        {
          "output_type": "stream",
          "name": "stdout",
          "text": [
            "Shape of Array (3, 3)\n"
          ]
        }
      ]
    },
    {
      "cell_type": "code",
      "source": [
        "a1 = np.array([[1,2,3], [4,5,6]])\n",
        "print(\"Shape of Array\", a1.shape)"
      ],
      "metadata": {
        "id": "URcKiAA_l2y2",
        "outputId": "54dfe6d0-02c7-4171-a5be-8830b5965dd8",
        "colab": {
          "base_uri": "https://localhost:8080/"
        }
      },
      "execution_count": 32,
      "outputs": [
        {
          "output_type": "stream",
          "name": "stdout",
          "text": [
            "Shape of Array (2, 3)\n"
          ]
        }
      ]
    },
    {
      "cell_type": "code",
      "source": [
        "#a1 = a1.reshape(1,6)\n",
        "a1 = a1.reshape(3,2)\n",
        "#a1 = a1.reshape(-1)      ONE DIMENSIONAL ARRAY IS GENERATED\n",
        "print(a1)\n",
        "print(\"Shape of Array\", a1.shape)"
      ],
      "metadata": {
        "id": "tpAf1fstnwaO",
        "outputId": "a01d9f5a-84d0-4cfa-fa1a-df718d6cfede",
        "colab": {
          "base_uri": "https://localhost:8080/"
        }
      },
      "execution_count": 45,
      "outputs": [
        {
          "output_type": "stream",
          "name": "stdout",
          "text": [
            "[[1 2]\n",
            " [3 4]\n",
            " [5 6]]\n",
            "Shape of Array (3, 2)\n"
          ]
        }
      ]
    },
    {
      "cell_type": "code",
      "source": [
        "a1 = np.array([[1,2,3,4,5,6]])\n",
        "print(\"Before shape of Array: \", a1.shape)\n",
        "a1 = a1.T\n",
        "print(\"After shape of Array: \", a1.shape)\n",
        "print(a1)"
      ],
      "metadata": {
        "id": "fvvxIdE4pwom",
        "outputId": "eed08ccd-0cbd-444d-dcae-de1b633c8522",
        "colab": {
          "base_uri": "https://localhost:8080/"
        }
      },
      "execution_count": 46,
      "outputs": [
        {
          "output_type": "stream",
          "name": "stdout",
          "text": [
            "Before shape of Array:  (1, 6)\n",
            "After shape of Array:  (6, 1)\n",
            "[[1]\n",
            " [2]\n",
            " [3]\n",
            " [4]\n",
            " [5]\n",
            " [6]]\n"
          ]
        }
      ]
    },
    {
      "cell_type": "code",
      "source": [
        "arr1 = np.array([[1,2,3], [4,5,6]])\n",
        "arr2 = np.array([[7,8], [9,10], [11,12]])\n",
        "print(\"Shape of Array 1: \",arr1.shape)\n",
        "print(\"Shape of Array 2: \",arr2.shape)\n",
        "#arr3 = np.matmul(arr1, arr2)\n",
        "arr3 = arr1 @ arr2\n",
        "print(\"Shape of Array 3: \",arr3.shape)"
      ],
      "metadata": {
        "id": "H96ooQ6As-cG",
        "outputId": "a55e4448-2fc0-407c-f31e-ecde5cd023aa",
        "colab": {
          "base_uri": "https://localhost:8080/"
        }
      },
      "execution_count": 52,
      "outputs": [
        {
          "output_type": "stream",
          "name": "stdout",
          "text": [
            "Shape of Array 1:  (2, 3)\n",
            "Shape of Array 2:  (3, 2)\n",
            "Shape of Array 3:  (2, 2)\n"
          ]
        }
      ]
    },
    {
      "cell_type": "markdown",
      "source": [
        "Pandas is built on Numpy useful for manupilating the dataset.\n",
        "1. Series\n",
        "2. Dataset"
      ],
      "metadata": {
        "id": "E4uyZSnCuPBa"
      }
    }
  ],
  "metadata": {
    "colab": {
      "name": "Welcome To Colab",
      "provenance": [],
      "include_colab_link": true
    },
    "kernelspec": {
      "display_name": "Python 3",
      "name": "python3"
    }
  },
  "nbformat": 4,
  "nbformat_minor": 0
}